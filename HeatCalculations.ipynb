{
 "cells": [
  {
   "cell_type": "code",
   "execution_count": 1,
   "id": "e78b5b55-ee5d-4ce6-b51d-8174676ea967",
   "metadata": {},
   "outputs": [
    {
     "name": "stderr",
     "output_type": "stream",
     "text": [
      "/var/folders/n4/nk6k_c65111dd1zq088dqpb40000gn/T/ipykernel_41385/3480337663.py:7: UserWarning: The seawater library is deprecated! Please use gsw instead.\n",
      "  import seawater as sw\n"
     ]
    }
   ],
   "source": [
    "import os\n",
    "import gsw\n",
    "import datetime\n",
    "import numpy as np\n",
    "import numpy as np\n",
    "import pandas as pd\n",
    "import seawater as sw\n",
    "#import cmocean.cm as cmo\n",
    "import matplotlib.pyplot as plt"
   ]
  },
  {
   "cell_type": "code",
   "execution_count": 2,
   "id": "922c25ef-4d08-4bb9-8f28-34e45a998779",
   "metadata": {},
   "outputs": [
    {
     "name": "stdout",
     "output_type": "stream",
     "text": [
      "/Users/sydneyperkins/miniconda3/envs/heatfluxcode/code_files\n",
      "Current directory set to: /Users/sydneyperkins/miniconda3/envs/heatfluxcode/code_files\n"
     ]
    }
   ],
   "source": [
    "print(os.getcwd())\n",
    "new_folder = \"/Users/sydneyperkins/miniconda3/envs/heatfluxcode/code_files\"\n",
    "os.chdir(new_folder)\n",
    "print(\"Current directory set to:\", os.getcwd())"
   ]
  },
  {
   "cell_type": "code",
   "execution_count": 3,
   "id": "ed3716c0-f48e-42ff-baa0-61d990e9a9f9",
   "metadata": {},
   "outputs": [],
   "source": [
    "from glob import glob\n",
    "from scipy.io import loadmat\n",
    "#from pymatreader import read_mat\n",
    "from mpl_toolkits import mplot3d\n",
    "from matplotlib.colors import BoundaryNorm, LinearSegmentedColormap\n",
    "from scipy.ndimage import gaussian_filter1d as gfilter\n",
    "from matplotlib.ticker import MaxNLocator, FormatStrFormatter\n",
    "mat_data = loadmat('/Users/sydneyperkins/Downloads/ASTRAL_DBASIS_upper_CTDgrid.mat')\n",
    "key = list(mat_data.keys())[-1]\n",
    "data = mat_data[key][0]\n",
    "time = data['std_profiles'][0]['time'][0][0].squeeze()\n",
    "time = time[2:] # Removing areas with no data in the vector\\n\",\n",
    "time = pd.to_datetime(time-719529, unit='D') # transforming the matlab time format (datenum) to the python time format (datetime)\n",
    "time = np.delete(time,[927, 3780, 3781], 0) #deleting bad profiles\n",
    "depth = data['std_profiles'][0]['P'][0][0];\n",
    "depth = depth[20:381,2:] # Removing areas with no data\n",
    "depth = np.delete(depth,[927, 3780, 3781], 1) #deleting bad profiles\n",
    "vmin, vmax = np.round(np.nanmin(depth),2), np.round(np.nanmax(depth),2)\n",
    "delta = .25\n",
    "depth = np.arange(vmin, vmax + delta, delta) #recreating a depth vector that makes sense\n",
    "time, depth = np.meshgrid(time, depth)\n",
    "rho = data['std_profiles'][0]['rho'][0][0]; rho = rho[20:381,2:] #potential density\n",
    "rho = np.delete(rho,[927, 3780, 3781], 1) #deleting bad profiles\n",
    "sigma = rho-1e3\n",
    "insitutemp = data['std_profiles'][0]['T'][0][0]; insitutemp = insitutemp[20:381,2:] # in-situ temperature\n",
    "insitutemp = np.delete(insitutemp,[927, 3780, 3781], 1) #deleting bad profiles\n",
    "SP = data['std_profiles'][0]['S'][0][0]; SP = SP[20:381,2:] #practical salinity\n",
    "SP = np.delete(SP,[927, 3780, 3781], 1) #deleting bad profiles\n",
    "P = data['std_profiles'][0]['P'][0][0]; P = P[20:381,2:] #Pressure\n",
    "P = np.delete(P,[927, 3780, 3781], 1) #deleting bad profiles\n",
    "SA = gsw.SA_from_SP(SP, depth, 85, 12) # computing absolutesalinity\n",
    "temp = gsw.CT_from_t(SA, insitutemp, depth) # computing conservative temperature\n",
    "gswrho = gsw.rho(SA,temp,P)\n",
    "timez = time[:,1]"
   ]
  },
  {
   "cell_type": "code",
   "execution_count": 17,
   "id": "3daf333b-b777-4c8f-91fb-cb0f784cd008",
   "metadata": {},
   "outputs": [
    {
     "name": "stdout",
     "output_type": "stream",
     "text": [
      "(3779,)\n"
     ]
    }
   ],
   "source": [
    "index26= []\n",
    "depth26= []    #creates an empty list in python so that we can later append values into it\n",
    "for i in range(temp.shape[1]):      #for all of the values in in temp.shape\n",
    "    temp_profile= temp[:,i]        #making temp profile, across all depth for each time profile\n",
    "    index26nonvect = np.argwhere(temp_profile > 26).argmax()    #index of each mixed layer depth\n",
    "    index26.append(index26nonvect) #list of mixed layer depth\n",
    "    depth26.append(depth[index26nonvect,i])\n",
    "depth26=np.array(depth26)\n",
    "print(depth26.shape)"
   ]
  },
  {
   "cell_type": "code",
   "execution_count": 60,
   "id": "71c1c2b2-4dea-456d-98bf-7b235e0397fc",
   "metadata": {},
   "outputs": [],
   "source": [
    "firstdepthrho03= []\n",
    "mldrho03 = []\n",
    "for i in range(rho.shape[1]):\n",
    "    matcha = np.where(~np.isnan(rho[:,i]))[0] #filters out nan across all rows (:) and across i columns\n",
    "    firstdepthindex = np.where(~np.isnan(rho[:,i]))[0][0]\n",
    "    firstrho03 = rho[matcha, i] #extracts non-Nan values\n",
    "    mlrho03 = firstrho03[0]+.03\n",
    "\n",
    "    indexmldrho03 = np.argmax(firstrho03 >= mlrho03)\n",
    "    firstdepthrho03.append(depth[matcha[0],i])\n",
    "    mldrho03.append(depth[matcha[indexmldrho03], i])\n",
    "\n",
    "mldrho125 = []\n",
    "firstdepthrho125 = []\n",
    "for i in range(rho.shape[1]):\n",
    "    chai = np.where(~np.isnan(rho[:,i]))[0] #\n",
    "    firstrho125 = rho[chai, i]\n",
    "    mlrho125 = firstrho125[0]+.125\n",
    "    indexmldrho125= np.argmax(firstrho125 >= mlrho125)\n",
    "    mldrho125.append(depth[chai[indexmldrho125], i])\n",
    "\n",
    "firstdepth = depth[matcha]"
   ]
  },
  {
   "cell_type": "code",
   "execution_count": null,
   "id": "ff77026d-11b5-4886-a1ec-8ec3d353eacc",
   "metadata": {},
   "outputs": [],
   "source": []
  },
  {
   "cell_type": "markdown",
   "id": "9a36aea1-2363-458b-acdc-842966b4fb95",
   "metadata": {},
   "source": [
    "firstrho03 = rho[matcha, i] #extracts non-Nan values\n",
    "print(firstrho03)"
   ]
  },
  {
   "cell_type": "code",
   "execution_count": 10,
   "id": "5c7634f7-74a2-4964-ac46-1f4f339b6817",
   "metadata": {},
   "outputs": [],
   "source": [
    "mldrho03 =np.array(mldrho03)\n",
    "mldrho125 = np.array(mldrho125)\n",
    "depth26 = np.array(depth26)\n",
    "timez= time[0,:]"
   ]
  },
  {
   "cell_type": "code",
   "execution_count": 11,
   "id": "eb127624-8634-4bdb-97b8-38dc6fe42a5a",
   "metadata": {},
   "outputs": [],
   "source": [
    "Cp = gsw.cp_t_exact(SA, temp, P) #specific heat capacity\n",
    "Cpmean= np.nanmean(Cp) # mean specific heat capacity"
   ]
  },
  {
   "cell_type": "code",
   "execution_count": 15,
   "id": "2caeb139-e526-43ac-8107-c52888403862",
   "metadata": {},
   "outputs": [],
   "source": [
    "import scipy.integrate as integrate\n",
    "from scipy.integrate import quad\n",
    "from scipy.integrate import trapezoid, simpson\n",
    "eq= rho*temp \n",
    "integrated_values_simps = simpson(eq, depth, axis=0) #needed for ocean heat quantity "
   ]
  },
  {
   "cell_type": "code",
   "execution_count": 28,
   "id": "d898d139-f737-464b-899e-99a8bd9cfe14",
   "metadata": {},
   "outputs": [],
   "source": [
    "heat_total= integrated_values*(Cpmean/1)#/depth26)\n",
    "heat_bottom_125 = integratednew_values*(Cpmean/1)#(depth26-mldrho125))\n",
    "heat_top_125 = integratedtoptomld_values*(Cpmean/1)#(mldrho125))"
   ]
  },
  {
   "cell_type": "code",
   "execution_count": 72,
   "id": "71f7afa5-d1a8-47d9-91ab-7fe7ecedef5a",
   "metadata": {},
   "outputs": [],
   "source": [
    "depth0= depth26-(depth[firstdepthindex,1])\n",
    "deno0 = (Cpmean/depth0)\n",
    "depth1_125 = mldrho125-(depth[firstdepthindex,1])\n",
    "deno1_125 = (Cpmean/depth1_125)\n",
    "depth2_125 = depth26-mldrho125\n",
    "deno2_125 = (Cpmean/depth2_125)\n",
    "t = pd.date_range(\n",
    "    start='2024-05-19T02:30:00',\n",
    "    end='2024-06-09T05:07:00',\n",
    "periods=3779)\n",
    "\n",
    "depth0= depth26-(depth[firstdepthindex,1])\n",
    "deno0 = (Cpmean/depth0)\n",
    "depth1_03 = mldrho03-(depth[firstdepthindex,1])\n",
    "deno1_03 = (Cpmean/depth1_03)\n",
    "depth2_03 = depth26-mldrho03\n",
    "deno2_03 = (Cpmean/depth2_03)"
   ]
  },
  {
   "cell_type": "code",
   "execution_count": 73,
   "id": "bb9cb852-7b23-4960-9fc7-4aca092c5c09",
   "metadata": {},
   "outputs": [],
   "source": [
    "import scipy\n",
    "import scipy.integrate as integrate\n",
    "from scipy.integrate import quad\n",
    "from scipy.integrate import simpson\n",
    "Ktemp = temp + 273\n",
    "rho26 = rho[index26, :]\n",
    "rho26mean = np.nanmean(rho26)\n",
    "rhoxtemp = (temp+(273.15-26)*rho)\n",
    "integrated_values_simps = simpson(rhoxtemp, x=depth, axis=0)\n",
    "Cpmean\n",
    "Cpxrhomean = Cpmean * rho26mean"
   ]
  },
  {
   "cell_type": "code",
   "execution_count": 78,
   "id": "7a1ab0df-ee2a-438c-8068-c7ac43a3d7c8",
   "metadata": {},
   "outputs": [
    {
     "name": "stdout",
     "output_type": "stream",
     "text": [
      "20309394.332123548\n"
     ]
    }
   ],
   "source": [
    "#calculating from the top to the 26 mark\n",
    "integrated_values = np.zeros(temp.shape[1]) #idk what this does it just fixes issues\n",
    "\n",
    "for i in range(temp.shape[1]):\n",
    "#temp_profile= temp[:,i]\n",
    "#index26 = np.argwhere(temp_profile1 > 26).argmax()\n",
    "    xvaluestot = depth[0:index26[i],i]\n",
    "    data_subsettot = rhoxtemp[0:index26[i], i]\n",
    "    integrated_value = simpson(data_subsettot, xvaluestot, axis=0)\n",
    "    integrated_values[i] = integrated_value\n",
    "print(integrated_value)\n",
    "\n",
    "integratednew_values = np.zeros(temp.shape[1]) #idk what this does it just fixes issues\n",
    "#calculating from the mld to the 26 mark\n",
    "for i in range(temp.shape[1]):\n",
    "    xvalues26 = depth[0:index26[i],i]\n",
    "    xvaluesmldrho26125 = depth[indexmldrho125:index26[i],i]\n",
    "    data_subsetmldrho26125 = rhoxtemp[indexmldrho125:index26[i],i]\n",
    "    integratednew_value= simpson(data_subsetmldrho26125, xvaluesmldrho26125, axis=0)\n",
    "    integratednew_values[i] = integratednew_value\n",
    "\n",
    "#Calculating from the top to the mld\n",
    "\n",
    "integratedtoptomld_values = np.zeros(temp.shape[1]) #idk what this does it just fixes issues\n",
    "for i in range(temp.shape[1]):\n",
    "    xvaluesmldrho125 = depth[0:indexmldrho125,i]\n",
    "    data_subsetmldrho125 = rhoxtemp[0:indexmldrho125, i]\n",
    "    integratedtoptomld_value= simpson(data_subsetmldrho125,\n",
    "    xvaluesmldrho125, axis=0)\n",
    "    integratedtoptomld_values[i] = integratedtoptomld_value\n",
    "\n",
    "heat_total = integrated_values*Cpmean#/depth0\n",
    "heat_bottom_125 = integratednew03_values*Cpmean#/depth1_125\n",
    "heat_top_125 = integratedtop03_values*Cpmean#/depth2_125"
   ]
  },
  {
   "cell_type": "code",
   "execution_count": 79,
   "id": "967e9256-a6db-46ff-8c08-2facd62065ad",
   "metadata": {},
   "outputs": [],
   "source": [
    "#calculating from the mld to the 26 mark for mld 03\n",
    "\n",
    "integratednew03_values= np.zeros(temp.shape[1]) #idk what this does it just fixes issues\n",
    "\n",
    "for i in range(temp.shape[1]):\n",
    "    temp_profile= temp[:,i]\n",
    "    xvaluesmldrho2603 = depth[indexmldrho03:index26[i],i]\n",
    "    data_subsetmldrho2603 = rhoxtemp[indexmldrho03:index26[i],i]\n",
    "    integratednew03_value= simpson(data_subsetmldrho2603, xvaluesmldrho2603, axis=0)\n",
    "    integratednew03_values[i] = integratednew03_value\n",
    "\n",
    "#Calculating from the top to the mld\n",
    "integratedtop03_values= np.zeros(temp.shape[1]) #idk what this does it just fixes issues\n",
    "for i in range(temp.shape[1]):\n",
    "    indexmldrho03 = np.argmax(firstrho03 >= mlrho03)\n",
    "    xvaluesmldrho03 = depth[0:indexmldrho03,i]\n",
    "    data_subsetmldrho03 = rhoxtemp[0:indexmldrho03, i]\n",
    "    integratedtop03_value= simpson(data_subsetmldrho03,\n",
    "    xvaluesmldrho03, axis=0)\n",
    "    integratedtop03_values[i] = integratedtop03_value\n",
    "\n",
    "heat_bottom_03 = integratednew03_values*(Cpmean/1)#/depth1_03\n",
    "heat_top_03 = integratedtop03_values*(Cpmean/1)#/depth2_03"
   ]
  },
  {
   "cell_type": "code",
   "execution_count": 81,
   "id": "3de96684-054d-4bd6-8841-c022e0bfb20c",
   "metadata": {},
   "outputs": [
    {
     "ename": "ModuleNotFoundError",
     "evalue": "No module named 'xarray'",
     "output_type": "error",
     "traceback": [
      "\u001b[0;31m---------------------------------------------------------------------------\u001b[0m",
      "\u001b[0;31mModuleNotFoundError\u001b[0m                       Traceback (most recent call last)",
      "Cell \u001b[0;32mIn[81], line 2\u001b[0m\n\u001b[1;32m      1\u001b[0m \u001b[38;5;66;03m#making heat content into xarrays ni= not interpolated\u001b[39;00m\n\u001b[0;32m----> 2\u001b[0m \u001b[38;5;28;01mimport\u001b[39;00m\u001b[38;5;250m \u001b[39m\u001b[38;5;21;01mxarray\u001b[39;00m\u001b[38;5;250m \u001b[39m\u001b[38;5;28;01mas\u001b[39;00m\u001b[38;5;250m \u001b[39m\u001b[38;5;21;01mxr\u001b[39;00m\n\u001b[1;32m      3\u001b[0m heattotalxr \u001b[38;5;241m=\u001b[39m xr\u001b[38;5;241m.\u001b[39mDataArray(heat_total, coords\u001b[38;5;241m=\u001b[39m[timez], dims\u001b[38;5;241m=\u001b[39m[\u001b[38;5;124m'\u001b[39m\u001b[38;5;124mtime\u001b[39m\u001b[38;5;124m'\u001b[39m]) \u001b[38;5;66;03m#turning heat content into xarray arrays\u001b[39;00m\n\u001b[1;32m      4\u001b[0m heattop125xr \u001b[38;5;241m=\u001b[39m xr\u001b[38;5;241m.\u001b[39mDataArray(heat_top_125, coords\u001b[38;5;241m=\u001b[39m[timez], dims\u001b[38;5;241m=\u001b[39m[\u001b[38;5;124m'\u001b[39m\u001b[38;5;124mtime\u001b[39m\u001b[38;5;124m'\u001b[39m])\n",
      "\u001b[0;31mModuleNotFoundError\u001b[0m: No module named 'xarray'"
     ]
    }
   ],
   "source": [
    "#making heat content into xarrays ni= not interpolated\n",
    "import xarray as xr\n",
    "heattotalxr = xr.DataArray(heat_total, coords=[timez], dims=['time']) #turning heat content into xarray arrays\n",
    "heattop125xr = xr.DataArray(heat_top_125, coords=[timez], dims=['time'])\n",
    "heatbottom125xr = xr.DataArray(heat_bottom_125, coords=[timez], dims=['time'])\n",
    "\n",
    "interp_times = pd.date_range('2024-05-19T02:30:00',\n",
    "'2024-06-09T05:07:00', freq='10s')\n",
    "heat_total_xr= heattotalxr.interp(time=t)\n",
    "heat_top_125_xr = heattop125xr.interp(time=t)\n",
    "heat_bottom_125_xr = heatbottom125xr.interp(time=t)\n",
    "\n",
    "heat_total_125_roll= heat_total_xr.rolling(time=170, min_periods=1, center=True).mean() \n",
    "#daily mean (140= 3779/22 days), with it starting at 1, and is centered on the day\n",
    "heat_top_125_roll = heat_top_125_xr.rolling(time=170, min_periods=1,center=True).mean()\n",
    "heat_bottom_125_roll = heat_bottom_125_xr.rolling(time=170, min_periods=1,center=True).mean()"
   ]
  },
  {
   "cell_type": "code",
   "execution_count": null,
   "id": "31d7454b-bd77-4754-9810-07847679f473",
   "metadata": {},
   "outputs": [],
   "source": []
  }
 ],
 "metadata": {
  "kernelspec": {
   "display_name": "Python (heatfluxcode)",
   "language": "python",
   "name": "heatfluxcode"
  },
  "language_info": {
   "codemirror_mode": {
    "name": "ipython",
    "version": 3
   },
   "file_extension": ".py",
   "mimetype": "text/x-python",
   "name": "python",
   "nbconvert_exporter": "python",
   "pygments_lexer": "ipython3",
   "version": "3.10.13"
  }
 },
 "nbformat": 4,
 "nbformat_minor": 5
}
